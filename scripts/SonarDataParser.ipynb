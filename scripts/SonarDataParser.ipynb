{
 "cells": [
  {
   "cell_type": "code",
   "execution_count": 1,
   "metadata": {},
   "outputs": [],
   "source": [
    "# Parses sonar mines and rocks data and stores them in csv files.\n",
    "# Format - first column = label, next M columns are features\n",
    "# mines = 0, rocks = 1"
   ]
  },
  {
   "cell_type": "code",
   "execution_count": 35,
   "metadata": {},
   "outputs": [],
   "source": [
    "import pandas as pd\n",
    "import os\n",
    "from sklearn.model_selection import train_test_split\n",
    "import numpy as np"
   ]
  },
  {
   "cell_type": "code",
   "execution_count": 17,
   "metadata": {},
   "outputs": [],
   "source": [
    "# Define paths\n",
    "data_dir = \"../data/sonar\"\n",
    "mines_file = os.path.join(data_dir, \"sonar.mines\")\n",
    "rocks_file = os.path.join(data_dir, \"sonar.rocks\")\n",
    "all_data_file = os.path.join(data_dir, \"sonar.all-data\")"
   ]
  },
  {
   "cell_type": "code",
   "execution_count": 52,
   "metadata": {},
   "outputs": [
    {
     "name": "stdout",
     "output_type": "stream",
     "text": [
      "(166, 60) (166,)\n"
     ]
    }
   ],
   "source": [
    "# Load files\n",
    "\n",
    "dataset, labels = [], []\n",
    "with open(all_data_file, \"r\") as mf:\n",
    "    features = mf.readlines()\n",
    "    for f in features:\n",
    "        feats = f.split(\",\")\n",
    "        feats, label = list(map(float, feats[0:-1])), feats[-1]\n",
    "        dataset.append(feats)\n",
    "        labels.append(0 if label.strip() == \"R\" else 1)\n",
    "\n",
    "X, y = np.array(dataset), np.array(labels)\n",
    "print(X_train.shape, y_train.shape)\n",
    "X_train, X_test, y_train, y_test = train_test_split(X, y, shuffle=True, test_size=0.2, random_state=42)\n",
    "result_train = pd.DataFrame(np.hstack((y_train.reshape(-1,1), X_train)))\n",
    "result_test = pd.DataFrame(np.hstack((y_test.reshape(-1,1), X_test)))\n",
    "\n",
    "result_train.to_csv(os.path.join(data_dir, \"sonar_train.csv\"), index=None, header=None)\n",
    "result_test.to_csv(os.path.join(data_dir, \"sonar_test.csv\"), index=None, header=None)"
   ]
  }
 ],
 "metadata": {
  "kernelspec": {
   "display_name": "Python 3",
   "language": "python",
   "name": "python3"
  },
  "language_info": {
   "codemirror_mode": {
    "name": "ipython",
    "version": 3
   },
   "file_extension": ".py",
   "mimetype": "text/x-python",
   "name": "python",
   "nbconvert_exporter": "python",
   "pygments_lexer": "ipython3",
   "version": "3.6.5"
  }
 },
 "nbformat": 4,
 "nbformat_minor": 2
}
